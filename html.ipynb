{
  "nbformat": 4,
  "nbformat_minor": 0,
  "metadata": {
    "colab": {
      "provenance": [],
      "authorship_tag": "ABX9TyOHoSEjewMb2EpVNTCiGjNw",
      "include_colab_link": true
    },
    "kernelspec": {
      "name": "python3",
      "display_name": "Python 3"
    },
    "language_info": {
      "name": "python"
    }
  },
  "cells": [
    {
      "cell_type": "markdown",
      "metadata": {
        "id": "view-in-github",
        "colab_type": "text"
      },
      "source": [
        "<a href=\"https://colab.research.google.com/github/spoorthi0311/Food-heist/blob/main/html.ipynb\" target=\"_parent\"><img src=\"https://colab.research.google.com/assets/colab-badge.svg\" alt=\"Open In Colab\"/></a>"
      ]
    },
    {
      "cell_type": "code",
      "source": [
        "\n",
        "\n",
        "<!DOCTYPE .config/html>\n",
        "<html lang=\"en\">\n",
        "<head>\n",
        "    <meta charset=\"UTF-8\">\n",
        "    <meta name=\"viewport\" content=\"width=device-width, initial-scale=1.0\">\n",
        "    <link rel=\"stylesheet\" href=\"styles.css\">\n",
        "    <title>Crop Data Entry</title>\n",
        "</head>\n",
        "<body>\n",
        "    <h1>Crop Data Entry</h1>\n",
        "    <form id=\"cropForm\">\n",
        "        <label for=\"brix\">Brix:</label>\n",
        "        <input type=\"number\" id=\"brix\" name=\"brix\" required>\n",
        "\n",
        "        <!-- Add more fields here for other parameters -->\n",
        "\n",
        "        <button type=\"submit\">Submit</button>\n",
        "    </form>\n",
        "    <script src=\"script.js\"></script>\n",
        "</body>\n",
        "</html>"
      ],
      "metadata": {
        "id": "1qByOWnuS7vs"
      },
      "execution_count": null,
      "outputs": []
    },
    {
      "cell_type": "code",
      "source": [
        "\n"
      ],
      "metadata": {
        "id": "7wyeg-HOTZ9j"
      },
      "execution_count": null,
      "outputs": []
    }
  ]
}